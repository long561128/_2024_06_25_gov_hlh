{
 "cells": [
  {
   "cell_type": "code",
   "execution_count": 9,
   "metadata": {},
   "outputs": [
    {
     "name": "stdout",
     "output_type": "stream",
     "text": [
      "對邊 25.0 斜邊 40.0 角度 38.68\n",
      "對邊：25.0,斜邊：40.0,角度：38.68\n",
      "對邊：25.0 斜邊：40.0 角度：38.68\n"
     ]
    }
   ],
   "source": [
    "import math\n",
    "size = float(input(\"請輸入對邊：\"))\n",
    "another_size = float(input(\"請輸入斜邊：\"))\n",
    "radian = math.asin(size / another_size )\n",
    "degree = math.degrees(radian)\n",
    "print(\"對邊\",size,\"斜邊\",another_size,\"角度\",round(degree,ndigits=2))\n",
    "print(f\"對邊：{size},斜邊：{another_size},角度：{round(degree,ndigits=2)}\")\n",
    "print(f\"對邊：{size} 斜邊：{another_size} 角度：{round(degree,ndigits=2)}\")"
   ]
  },
  {
   "cell_type": "code",
   "execution_count": 10,
   "metadata": {},
   "outputs": [
    {
     "name": "stdout",
     "output_type": "stream",
     "text": [
      "5.94418483337567\n",
      "1.8257418583505538\n"
     ]
    }
   ],
   "source": [
    "import statistics\n",
    "\n",
    "statistics.mean([0, 5, 9, 14])\n",
    "statistics.mean([5, 6, 8, 9])\n",
    "\n",
    "print(statistics.stdev([0, 5, 9, 14]))\n",
    "print(statistics.stdev([5, 6, 8, 9]))\n"
   ]
  },
  {
   "cell_type": "code",
   "execution_count": 15,
   "metadata": {},
   "outputs": [
    {
     "data": {
      "text/plain": [
       "135000"
      ]
     },
     "execution_count": 15,
     "metadata": {},
     "output_type": "execute_result"
    }
   ],
   "source": [
    "m = 10\n",
    "m += 20 #複合指定運算子\n",
    "m **= 3\n",
    "m\n",
    "m *= 5\n",
    "m "
   ]
  },
  {
   "cell_type": "code",
   "execution_count": 8,
   "metadata": {},
   "outputs": [
    {
     "name": "stdout",
     "output_type": "stream",
     "text": [
      "對邊:25.0,斜邊:40.0,角度:38.68\n"
     ]
    }
   ],
   "source": [
    "import math\n",
    "\n",
    "side = float(input('請輸入對邊'))\n",
    "another_side = float(input('請輸入斜邊'))\n",
    "radian = math.asin(side / another_side)\n",
    "degree = math.degrees(radian)\n",
    "print(f\"對邊:{side},斜邊:{another_side},角度:{round(degree,ndigits=2)}\")"
   ]
  },
  {
   "cell_type": "code",
   "execution_count": 16,
   "metadata": {},
   "outputs": [],
   "source": [
    "import pyinputplus as pyip\n",
    "result = pyip.inputStr()"
   ]
  }
 ],
 "metadata": {
  "kernelspec": {
   "display_name": "Python 3",
   "language": "python",
   "name": "python3"
  },
  "language_info": {
   "codemirror_mode": {
    "name": "ipython",
    "version": 3
   },
   "file_extension": ".py",
   "mimetype": "text/x-python",
   "name": "python",
   "nbconvert_exporter": "python",
   "pygments_lexer": "ipython3",
   "version": "3.12.3"
  }
 },
 "nbformat": 4,
 "nbformat_minor": 2
}
