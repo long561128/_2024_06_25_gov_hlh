{
 "cells": [
  {
   "cell_type": "code",
   "execution_count": 3,
   "metadata": {},
   "outputs": [
    {
     "name": "stdout",
     "output_type": "stream",
     "text": [
      "矩形的寬： 4.2\n",
      "矩形的長： 26.0\n",
      "矩形的面積： 109.2\n"
     ]
    }
   ],
   "source": [
    "width = float(input(\"請輸入矩形的寬:\"))\n",
    "height = float(input(\"請輸入矩形的高:\"))\n",
    "print(\"矩形的寬：\",width)\n",
    "print(\"矩形的長：\",height)\n",
    "print(\"矩形的面積：\",width * height)"
   ]
  }
 ],
 "metadata": {
  "kernelspec": {
   "display_name": "Python 3",
   "language": "python",
   "name": "python3"
  },
  "language_info": {
   "codemirror_mode": {
    "name": "ipython",
    "version": 3
   },
   "file_extension": ".py",
   "mimetype": "text/x-python",
   "name": "python",
   "nbconvert_exporter": "python",
   "pygments_lexer": "ipython3",
   "version": "3.12.3"
  }
 },
 "nbformat": 4,
 "nbformat_minor": 2
}
